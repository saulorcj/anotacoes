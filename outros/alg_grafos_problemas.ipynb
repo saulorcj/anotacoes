{
 "cells": [
  {
   "cell_type": "markdown",
   "id": "9f57c2fd",
   "metadata": {},
   "source": [
    "# Problema 1 - A celebridade\n",
    "\n",
    "Uma festa com N pessoas, quaisquer duas pessoas podem se conhecer ou não se conhecer. As relações  são direcionais. 1 pode conhecer 2, mas 2 pode não conhecer 1. Os dois podem se conhecer e os dois podem não se conhecer. Uma celebridade caracteriza-se por todos a conhecerem e ela não conhecer ninguém. \n",
    "\n",
    "A entrada é um grafo direcionado onde as arestas indicam a relação de conhecer. Uma aresta de X pra Y significa que X conhece Y. \n",
    "\n",
    "Dado o grafo relacionado, existe alguma celebridade nessa festa? \n",
    "\n",
    "D(V,E) direcionado onde (x, y) € E sse x conhece y."
   ]
  },
  {
   "cell_type": "code",
   "execution_count": 47,
   "id": "859d1625",
   "metadata": {},
   "outputs": [],
   "source": [
    "grafo = {\"Carlos\": {\"Ana\", \"João\", \"Pedro\"}, \n",
    "         \"João\": {\"Pedro\"}, \n",
    "         \"Adriana\": {\"Carlos\", \"Luana\", \"Fernanda\", \"Pedro\"}, \n",
    "         \"Luana\": {\"Ana\", \"João\", \"Pedro\"}, \n",
    "         \"Gabriela\": {\"Fernanda\", \"Pedro\"}, \n",
    "         \"Fernanda\": {\"Ana\", \"Pedro\"}, \n",
    "         \"Pedro\": {}, \n",
    "         \"Ana\": {\"Pedro\", \"João\"}}"
   ]
  },
  {
   "cell_type": "code",
   "execution_count": 54,
   "id": "53aefb8d",
   "metadata": {},
   "outputs": [],
   "source": [
    "def encontrar_celebridade(grafo):\n",
    "    conhecidos = set(grafo.keys())\n",
    "    sem_amigos = set()\n",
    "    for pessoa in grafo:\n",
    "        if grafo[pessoa]:\n",
    "            conhecidos = grafo[pessoa] & conhecidos\n",
    "        else:\n",
    "            if sem_amigos:\n",
    "                return None\n",
    "            else:\n",
    "                sem_amigos.add(pessoa)\n",
    "    if sem_amigos.issubset(conhecidos):\n",
    "        return sem_amigos\n",
    "    else:\n",
    "        return None"
   ]
  },
  {
   "cell_type": "code",
   "execution_count": 55,
   "id": "896eacc5",
   "metadata": {},
   "outputs": [
    {
     "data": {
      "text/plain": [
       "{'Pedro'}"
      ]
     },
     "execution_count": 55,
     "metadata": {},
     "output_type": "execute_result"
    }
   ],
   "source": [
    "encontrar_celebridade(grafo)"
   ]
  },
  {
   "cell_type": "markdown",
   "id": "015d9149",
   "metadata": {},
   "source": [
    "# Problema 2 - As Metropoles\n",
    "\n",
    "A entrada é grafo não direcionado G(V, E) onde arestas (x, y) representam estradas diretas entre as cidades X e Y. Também faz parte da entrada cada vértice numerado de 1 a N que representam uma cidade e sabe quantos cidadãos existem em cada cidade.\n",
    "\n",
    "Quantas estradas existem ligando duas metropoles? Quantas são as arestas que ligam duas metropoles quaisquer? \n",
    "\n",
    "Uma metrópole é uma cidade com mais de um milhão de habitantes"
   ]
  },
  {
   "cell_type": "code",
   "execution_count": 64,
   "id": "48e6413c",
   "metadata": {},
   "outputs": [],
   "source": [
    "grafo = {(\"A\",    56_000): {\"B\", \"C\", \"D\", \"E\", \"F\"},\n",
    "         (\"B\",   777_000): {\"A\", \"D\", \"E\", \"F\"},\n",
    "         (\"C\", 1_580_000): {\"A\", \"E\"},\n",
    "         (\"D\", 1_900_984): {\"B\", \"A\", \"E\"},\n",
    "         (\"E\", 1_394_223): {\"A\", \"B\", \"C\", \"D\", \"E\"},\n",
    "         (\"F\",   245_000): {\"A\", \"B\", \"E\"}}"
   ]
  },
  {
   "cell_type": "code",
   "execution_count": 65,
   "id": "22162d86",
   "metadata": {},
   "outputs": [],
   "source": [
    "def quantidade_estrada(grafo):\n",
    "    candidatas = set()\n",
    "    qt_estradas = 0\n",
    "    for cidade in grafo:\n",
    "        if cidade[1] >= 1_000_000:\n",
    "            for outra_cidade in grafo[cidade]:\n",
    "                estrada = tuple(sorted([cidade[0], outra_cidade]))\n",
    "                if estrada in candidatas:\n",
    "                    qt_estradas += 1\n",
    "                else:\n",
    "                    candidatas.add(estrada)\n",
    "    return qt_estradas\n",
    "    "
   ]
  },
  {
   "cell_type": "code",
   "execution_count": 66,
   "id": "c39077ae",
   "metadata": {},
   "outputs": [
    {
     "data": {
      "text/plain": [
       "2"
      ]
     },
     "execution_count": 66,
     "metadata": {},
     "output_type": "execute_result"
    }
   ],
   "source": [
    "quantidade_estrada(grafo)"
   ]
  }
 ],
 "metadata": {
  "kernelspec": {
   "display_name": "Python 3 (ipykernel)",
   "language": "python",
   "name": "python3"
  },
  "language_info": {
   "codemirror_mode": {
    "name": "ipython",
    "version": 3
   },
   "file_extension": ".py",
   "mimetype": "text/x-python",
   "name": "python",
   "nbconvert_exporter": "python",
   "pygments_lexer": "ipython3",
   "version": "3.9.7"
  }
 },
 "nbformat": 4,
 "nbformat_minor": 5
}
