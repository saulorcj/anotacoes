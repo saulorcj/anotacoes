{
 "cells": [
  {
   "cell_type": "code",
   "execution_count": 33,
   "id": "888582dd",
   "metadata": {},
   "outputs": [],
   "source": [
    "lista_estados = ['bahia', 'RIO DE JANEIRO!!!', '###São Paulo###', \"ESPÍRiTo SaNto\"]"
   ]
  },
  {
   "cell_type": "code",
   "execution_count": 8,
   "id": "d6025ce0",
   "metadata": {},
   "outputs": [],
   "source": [
    "import re"
   ]
  },
  {
   "cell_type": "code",
   "execution_count": 35,
   "id": "18446d8a",
   "metadata": {},
   "outputs": [],
   "source": [
    "def clean_strings(strings):\n",
    "    result = []\n",
    "    for value in strings:\n",
    "        value = value.strip()\n",
    "        value = re.sub('[?#!]', '', value)\n",
    "        value = value.title()\n",
    "        result.append(value)\n",
    "    return result"
   ]
  },
  {
   "cell_type": "code",
   "execution_count": 36,
   "id": "2d82b47e",
   "metadata": {},
   "outputs": [
    {
     "data": {
      "text/plain": [
       "['Bahia', 'Rio De Janeiro', 'São Paulo', 'Espírito Santo']"
      ]
     },
     "execution_count": 36,
     "metadata": {},
     "output_type": "execute_result"
    }
   ],
   "source": [
    "clean_strings(lista_estados)"
   ]
  },
  {
   "cell_type": "code",
   "execution_count": 37,
   "id": "09b18070",
   "metadata": {},
   "outputs": [],
   "source": [
    "def remove_pontuation(string):\n",
    "    return re.sub('[#?!]', '', string)\n",
    "\n",
    "def clean_strings(strings, ops):\n",
    "    result = []\n",
    "    for value in strings:\n",
    "        for function in ops:\n",
    "            value = function(value)\n",
    "        result.append(value)\n",
    "    return result"
   ]
  },
  {
   "cell_type": "code",
   "execution_count": 38,
   "id": "04a03864",
   "metadata": {},
   "outputs": [
    {
     "data": {
      "text/plain": [
       "['Bahia', 'Rio De Janeiro', 'São Paulo', 'Espírito Santo']"
      ]
     },
     "execution_count": 38,
     "metadata": {},
     "output_type": "execute_result"
    }
   ],
   "source": [
    "clean_ops = [str.strip, remove_pontuation, str.title]\n",
    "clean_strings(lista_estados, clean_ops)"
   ]
  },
  {
   "cell_type": "code",
   "execution_count": 39,
   "id": "7b651f66",
   "metadata": {},
   "outputs": [
    {
     "name": "stdout",
     "output_type": "stream",
     "text": [
      "bahia\n",
      "RIO DE JANEIRO\n",
      "São Paulo\n",
      "ESPÍRiTo SaNto\n"
     ]
    },
    {
     "data": {
      "text/plain": [
       "['bahia', 'RIO DE JANEIRO!!!', '###São Paulo###', 'ESPÍRiTo SaNto']"
      ]
     },
     "execution_count": 39,
     "metadata": {},
     "output_type": "execute_result"
    }
   ],
   "source": [
    "#Map\n",
    "\"\"\"map(funcao, collection) executa uma função para cada iteração de collection\"\"\"\n",
    "for estado in map(remove_pontuation, lista_estados):\n",
    "    print(estado)\n",
    "lista_estados"
   ]
  },
  {
   "cell_type": "code",
   "execution_count": 40,
   "id": "447293c7",
   "metadata": {},
   "outputs": [],
   "source": [
    "#Lambda\n",
    "def short_function(x):\n",
    "    return x * 2\n",
    "equiv_lambda = lambda x: x * 2"
   ]
  },
  {
   "cell_type": "code",
   "execution_count": 47,
   "id": "e3e43136",
   "metadata": {},
   "outputs": [
    {
     "data": {
      "text/plain": [
       "['aaa', 'foo', 'sass', 'tom', 'card']"
      ]
     },
     "execution_count": 47,
     "metadata": {},
     "output_type": "execute_result"
    }
   ],
   "source": [
    "\"\"\"Ordenar uma lista de palavras pelo número de caracteres distintos\"\"\"\n",
    "strings = ['foo', 'card', 'tom', 'aaa', 'sass']\n",
    "strings.sort(key = lambda x: len(set(list(x))))\n",
    "strings"
   ]
  },
  {
   "cell_type": "code",
   "execution_count": 49,
   "id": "2250d933",
   "metadata": {},
   "outputs": [
    {
     "data": {
      "text/plain": [
       "'Chamar uma função dentro de outra'"
      ]
     },
     "execution_count": 49,
     "metadata": {},
     "output_type": "execute_result"
    }
   ],
   "source": [
    "#Currying\n",
    "\"\"\"Chamar uma função dentro de outra\"\"\""
   ]
  },
  {
   "cell_type": "code",
   "execution_count": 50,
   "id": "ca85e283",
   "metadata": {},
   "outputs": [
    {
     "data": {
      "text/plain": [
       "15"
      ]
     },
     "execution_count": 50,
     "metadata": {},
     "output_type": "execute_result"
    }
   ],
   "source": [
    "#modo básico\n",
    "def add(x, y):\n",
    "    return x + y\n",
    "\n",
    "def add_five(x):\n",
    "    return add(5, x)\n",
    "add_five(10)"
   ]
  },
  {
   "cell_type": "code",
   "execution_count": 56,
   "id": "3d01a5b3",
   "metadata": {},
   "outputs": [
    {
     "data": {
      "text/plain": [
       "15"
      ]
     },
     "execution_count": 56,
     "metadata": {},
     "output_type": "execute_result"
    }
   ],
   "source": [
    "#modo melhor\n",
    "from functools import partial\n",
    "add_five = partial(add, 5)\n",
    "add_five(10)"
   ]
  },
  {
   "cell_type": "code",
   "execution_count": 65,
   "id": "4a58c3a8",
   "metadata": {},
   "outputs": [
    {
     "name": "stdout",
     "output_type": "stream",
     "text": [
      "Gerando quadrados de 1 a 100\n",
      "1\n",
      "4\n",
      "9\n",
      "16\n",
      "25\n",
      "36\n",
      "49\n",
      "64\n",
      "81\n",
      "100\n"
     ]
    }
   ],
   "source": [
    "#Geradores\n",
    "\n",
    "def quadrados(n=10):\n",
    "    print(\"Gerando quadrados de 1 a {0}\".format(n ** 2))\n",
    "    for i in range(1, n + 1):\n",
    "        yield i ** 2\n",
    "\n",
    "gen = quadrados(10)\n",
    "for x in gen:\n",
    "    print(x, end='\\n')"
   ]
  },
  {
   "cell_type": "code",
   "execution_count": 67,
   "id": "c302d4f9",
   "metadata": {},
   "outputs": [],
   "source": [
    "#Expressões Geradoras\n",
    "\"\"\"Ánalogo a list, dict e set comprehensions, porém devem ser usados parênteses\"\"\"\n",
    "\n",
    "gen = (x ** 2 for x in range(100))\n",
    "\n",
    "#Equivalente a\n",
    "\n",
    "def _make_gen():\n",
    "    for x in range(100):\n",
    "        yield x ** 2\n",
    "gen = _make_gen()"
   ]
  },
  {
   "cell_type": "code",
   "execution_count": 68,
   "id": "733d0634",
   "metadata": {},
   "outputs": [
    {
     "data": {
      "text/plain": [
       "328350"
      ]
     },
     "execution_count": 68,
     "metadata": {},
     "output_type": "execute_result"
    }
   ],
   "source": [
    "\"\"\"Funções geradoras podem ser usadas no lugar de comprehensions como argumento\n",
    "de função em muitos casos\"\"\"\n",
    "\n",
    "sum(x ** 2 for x in range(100))"
   ]
  },
  {
   "cell_type": "code",
   "execution_count": 71,
   "id": "983e01a4",
   "metadata": {},
   "outputs": [
    {
     "data": {
      "text/plain": [
       "{0: 0, 1: 1, 2: 4, 3: 9, 4: 16, 5: 25, 6: 36, 7: 49, 8: 64, 9: 81}"
      ]
     },
     "execution_count": 71,
     "metadata": {},
     "output_type": "execute_result"
    }
   ],
   "source": [
    "dict((i, i**2) for i in range(10))"
   ]
  },
  {
   "cell_type": "code",
   "execution_count": 74,
   "id": "78116e64",
   "metadata": {},
   "outputs": [],
   "source": [
    "###Módulo Intertools###\n",
    "import itertools"
   ]
  },
  {
   "cell_type": "code",
   "execution_count": 79,
   "id": "7fb32b4f",
   "metadata": {},
   "outputs": [
    {
     "name": "stdout",
     "output_type": "stream",
     "text": [
      "S ['Saulo', 'Samanta']\n",
      "R ['Roberto', 'Rafael']\n",
      "D ['Douglas']\n",
      "R ['Raissa']\n"
     ]
    }
   ],
   "source": [
    "#Groupby\n",
    "\"\"\"Aceita qualquer sequência e uma função, agrupando elementos consecutivos de uma sequência de acordo com o valor\n",
    "de retorno da função\"\"\"\n",
    "\n",
    "primeira_letra = lambda x: x[0]\n",
    "\n",
    "nomes = ['Saulo', 'Samanta', 'Roberto', 'Rafael', 'Douglas', 'Raissa']\n",
    "\n",
    "for letra, nomes in itertools.groupby(nomes, primeira_letra):\n",
    "    print(letra, list(nomes))"
   ]
  },
  {
   "cell_type": "code",
   "execution_count": 93,
   "id": "55b6d684",
   "metadata": {},
   "outputs": [
    {
     "name": "stdout",
     "output_type": "stream",
     "text": [
      "Combinações\n",
      "(1, 2, 3, 4)\n",
      "(1, 2, 3, 5)\n",
      "(1, 2, 4, 5)\n",
      "(1, 3, 4, 5)\n",
      "(2, 3, 4, 5)\n",
      "Permutações\n",
      "(1, 2, 3)\n",
      "(1, 3, 2)\n",
      "(2, 1, 3)\n",
      "(2, 3, 1)\n",
      "(3, 1, 2)\n",
      "(3, 2, 1)\n"
     ]
    }
   ],
   "source": [
    "#Outras funções de Itertools\n",
    "\"\"\"\n",
    "combinations(iterable, k)\n",
    "Gera uma sequência de todas as tuplas possíveis \n",
    "de k elementos no iterável, ignorando a ordem e\n",
    "sem substituição (veja também a função companheira\n",
    "combinations_with_replacement)\n",
    "permutations(iterable, k)\n",
    "Gera uma sequência de todas as tuplas possíveis de \n",
    "k elementos no iterável, respeitando a ordem\n",
    "produt(*iterables, repeat=1)\n",
    "Gera o produto cartesiano dos iteráveis de entrada \n",
    "como tuplas, de modo semelhante a um laço for aninhado\n",
    "\"\"\"\n",
    "\n",
    "lista = [1, 2, 3, 4, 5]\n",
    "print(\"Combinações\")\n",
    "for combinacao in itertools.combinations(lista, 4):\n",
    "    print(combinacao)\n",
    "print(\"Permutações\")\n",
    "for permutacao in itertools.permutations(lista[:3], 3):\n",
    "    print(permutacao)"
   ]
  }
 ],
 "metadata": {
  "kernelspec": {
   "display_name": "Python 3 (ipykernel)",
   "language": "python",
   "name": "python3"
  },
  "language_info": {
   "codemirror_mode": {
    "name": "ipython",
    "version": 3
   },
   "file_extension": ".py",
   "mimetype": "text/x-python",
   "name": "python",
   "nbconvert_exporter": "python",
   "pygments_lexer": "ipython3",
   "version": "3.9.7"
  }
 },
 "nbformat": 4,
 "nbformat_minor": 5
}
