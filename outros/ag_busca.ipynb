{
 "cells": [
  {
   "cell_type": "code",
   "execution_count": 1,
   "id": "3e6956b6",
   "metadata": {},
   "outputs": [],
   "source": [
    "from collections import deque"
   ]
  },
  {
   "cell_type": "code",
   "execution_count": 3,
   "id": "fd42d1e1",
   "metadata": {},
   "outputs": [],
   "source": [
    "grafo = {1: {2, 4},\n",
    "         2: {1, 4, 7},\n",
    "         3: {5, 6},\n",
    "         4: {2, 7},\n",
    "         5: {3, 7},\n",
    "         6: {3},\n",
    "         7: {2, 4, 5}}"
   ]
  },
  {
   "cell_type": "code",
   "execution_count": 25,
   "id": "b9b3dba0",
   "metadata": {},
   "outputs": [],
   "source": [
    "\"\"\"Implementando busca em largura para encontrar a quantidade de arestas do caminho mínimo \n",
    "entre dois vértices\"\"\"\n",
    "def busca_largura(grafo, no_start, no_end):\n",
    "    fila = deque([(no_start, 0)])\n",
    "    foram = {no_start}\n",
    "    while True:\n",
    "        for no_viz in grafo[fila[0][0]]:\n",
    "            if no_viz not in foram:\n",
    "                if no_viz == no_end:\n",
    "                    return fila[0][1] + 1\n",
    "                else:\n",
    "                    foram.add(no_viz)\n",
    "                fila.append((no_viz, fila[0][1] + 1))\n",
    "        fila.popleft()"
   ]
  },
  {
   "cell_type": "code",
   "execution_count": 26,
   "id": "b257b21f",
   "metadata": {},
   "outputs": [
    {
     "data": {
      "text/plain": [
       "3"
      ]
     },
     "execution_count": 26,
     "metadata": {},
     "output_type": "execute_result"
    }
   ],
   "source": [
    "busca_largura(grafo, 3, 2)"
   ]
  },
  {
   "cell_type": "code",
   "execution_count": 40,
   "id": "a7bb8014",
   "metadata": {},
   "outputs": [],
   "source": [
    "\"\"\"Implementando busca em profundidade para encontrar a quantidade de arestas de um caminho \n",
    "qualquer entre dois vértices\"\"\"\n",
    "def busca_profundidade(grafo, no_start, no_end, altura=0, foram=set()):\n",
    "    for no_viz in grafo[no_start]:\n",
    "        if no_viz not in foram:\n",
    "            if no_viz == no_end:\n",
    "                return altura + 1\n",
    "            else:\n",
    "                foram.add(no_start)\n",
    "                return busca_profundidade(grafo, no_viz, no_end, altura + 1, foram)"
   ]
  },
  {
   "cell_type": "code",
   "execution_count": 43,
   "id": "3bf28344",
   "metadata": {},
   "outputs": [
    {
     "data": {
      "text/plain": [
       "2"
      ]
     },
     "execution_count": 43,
     "metadata": {},
     "output_type": "execute_result"
    }
   ],
   "source": [
    "busca_profundidade(grafo, 2, 4)"
   ]
  }
 ],
 "metadata": {
  "kernelspec": {
   "display_name": "Python 3 (ipykernel)",
   "language": "python",
   "name": "python3"
  },
  "language_info": {
   "codemirror_mode": {
    "name": "ipython",
    "version": 3
   },
   "file_extension": ".py",
   "mimetype": "text/x-python",
   "name": "python",
   "nbconvert_exporter": "python",
   "pygments_lexer": "ipython3",
   "version": "3.9.7"
  }
 },
 "nbformat": 4,
 "nbformat_minor": 5
}
