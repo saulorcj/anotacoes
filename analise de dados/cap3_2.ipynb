{
 "cells": [
  {
   "cell_type": "code",
   "execution_count": 2,
   "id": "a18a7627",
   "metadata": {},
   "outputs": [],
   "source": [
    "#Deque\n",
    "from collections import deque"
   ]
  },
  {
   "cell_type": "code",
   "execution_count": 16,
   "id": "0cd2933e",
   "metadata": {},
   "outputs": [],
   "source": [
    "\"\"\"\n",
    "deque é um tipo de lista que tem o intuito de facilitar a inserção e remoção de valores do início e fim\n",
    "doc: https://www.geeksforgeeks.org/deque-in-python/\n",
    "\"\"\"\n",
    "queue = deque([5, 6, 7, 8])"
   ]
  },
  {
   "cell_type": "code",
   "execution_count": 17,
   "id": "30dfd18a",
   "metadata": {},
   "outputs": [
    {
     "data": {
      "text/plain": [
       "deque([5, 6, 7, 8, 9, 10])"
      ]
     },
     "execution_count": 17,
     "metadata": {},
     "output_type": "execute_result"
    }
   ],
   "source": [
    "queue.append(9)\n",
    "queue.append(10)\n",
    "queue"
   ]
  },
  {
   "cell_type": "code",
   "execution_count": 18,
   "id": "34b50d76",
   "metadata": {},
   "outputs": [
    {
     "data": {
      "text/plain": [
       "deque([5, 6, 7, 8, 9])"
      ]
     },
     "execution_count": 18,
     "metadata": {},
     "output_type": "execute_result"
    }
   ],
   "source": [
    "queue.pop()\n",
    "queue"
   ]
  },
  {
   "cell_type": "code",
   "execution_count": 19,
   "id": "d7a321ca",
   "metadata": {},
   "outputs": [
    {
     "data": {
      "text/plain": [
       "deque([3, 4, 5, 6, 7, 8, 9])"
      ]
     },
     "execution_count": 19,
     "metadata": {},
     "output_type": "execute_result"
    }
   ],
   "source": [
    "queue.appendleft(4)\n",
    "queue.appendleft(3)\n",
    "queue"
   ]
  },
  {
   "cell_type": "code",
   "execution_count": 20,
   "id": "dc2a6896",
   "metadata": {},
   "outputs": [
    {
     "data": {
      "text/plain": [
       "deque([4, 5, 6, 7, 8, 9])"
      ]
     },
     "execution_count": 20,
     "metadata": {},
     "output_type": "execute_result"
    }
   ],
   "source": [
    "queue.popleft()\n",
    "queue"
   ]
  },
  {
   "cell_type": "code",
   "execution_count": 40,
   "id": "15b850cd",
   "metadata": {},
   "outputs": [],
   "source": [
    "#Lista\n",
    "\"\"\"Caso já haja uma lista criada e você queira concatená-la com outra, dê preferência ao uso de extend, pois\n",
    "usando a concatenação por '+' fará a cópia de todos os valores para uma nova lista\"\"\"\n",
    "lista = [1, 2, 3, 4, 5]\n",
    "#ERRADO\n",
    "lista = lista + [6, 7, 8] #ou lista += [6, 7, 8]\n",
    "#CERTO\n",
    "lista.extend([6, 7, 8])"
   ]
  },
  {
   "cell_type": "code",
   "execution_count": 33,
   "id": "86a15320",
   "metadata": {},
   "outputs": [
    {
     "data": {
      "text/plain": [
       "5"
      ]
     },
     "execution_count": 33,
     "metadata": {},
     "output_type": "execute_result"
    }
   ],
   "source": [
    "\"\"\"bisect.bisect(lista, n) retorna, através de busca binária, o índice para inserção do elemento 'n' a fim de \n",
    "manter a 'lista' ordenada\"\"\"\n",
    "import bisect\n",
    "lista = [1, 3, 6, 8, 11, 21, 97]\n",
    "bisect.bisect(lista, 16)"
   ]
  },
  {
   "cell_type": "code",
   "execution_count": 34,
   "id": "af3994f6",
   "metadata": {},
   "outputs": [
    {
     "data": {
      "text/plain": [
       "[1, 3, 6, 8, 11, 21, 77, 97]"
      ]
     },
     "execution_count": 34,
     "metadata": {},
     "output_type": "execute_result"
    }
   ],
   "source": [
    "\"\"\"bisect.insort(lista, n) insere o elemento 'n' na 'lista' através da busca binária\"\"\"\n",
    "bisect.insort(lista, 77)\n",
    "lista"
   ]
  },
  {
   "cell_type": "code",
   "execution_count": 37,
   "id": "c2cdc4cb",
   "metadata": {},
   "outputs": [
    {
     "name": "stdout",
     "output_type": "stream",
     "text": [
      "índice = 0, valor = 3\n",
      "índice = 1, valor = 7\n",
      "índice = 2, valor = 1\n",
      "índice = 3, valor = 9\n",
      "índice = 4, valor = -5\n",
      "índice = 5, valor = 97\n"
     ]
    }
   ],
   "source": [
    "lista = [3, 7, 1, 9, -5, 97]\n",
    "\"\"\"Alternativa para:\n",
    "for i in range(len(lista)):\n",
    "    print(\"índice = {0}, valor = {1}\".format(i, lista[i]))\n",
    "\"\"\"\n",
    "for i, value in enumerate(lista):\n",
    "    print(\"índice = {0}, valor = {1}\".format(i, value))"
   ]
  },
  {
   "cell_type": "code",
   "execution_count": 39,
   "id": "74dba0ff",
   "metadata": {},
   "outputs": [
    {
     "data": {
      "text/plain": [
       "{3: 0, 7: 1, 1: 2, 9: 3, -5: 4, 97: 5}"
      ]
     },
     "execution_count": 39,
     "metadata": {},
     "output_type": "execute_result"
    }
   ],
   "source": [
    "\"\"\"forma de indexar os índices dos valores de uma lista\"\"\"\n",
    "dicionario = {}\n",
    "for i, value in enumerate(lista):\n",
    "    dicionario[value] = i\n",
    "dicionario"
   ]
  },
  {
   "cell_type": "code",
   "execution_count": 43,
   "id": "c4ccee78",
   "metadata": {},
   "outputs": [
    {
     "data": {
      "text/plain": [
       "[('andre', 'samara'), ('paulo', 'thais'), ('jose', 'carla')]"
      ]
     },
     "execution_count": 43,
     "metadata": {},
     "output_type": "execute_result"
    }
   ],
   "source": [
    "\"\"\"zip 'pareia' os elementos de diferentes listas\"\"\"\n",
    "\n",
    "meninos = [\"andre\", \"paulo\", \"jose\"]\n",
    "meninas = [\"samara\", \"thais\", \"carla\"]\n",
    "\n",
    "list(zip(meninos, meninas))"
   ]
  },
  {
   "cell_type": "code",
   "execution_count": 46,
   "id": "63c768ca",
   "metadata": {},
   "outputs": [
    {
     "name": "stdout",
     "output_type": "stream",
     "text": [
      "índice = 0, menino = andre, menina = samara\n",
      "índice = 1, menino = paulo, menina = thais\n",
      "índice = 2, menino = jose, menina = carla\n"
     ]
    }
   ],
   "source": [
    "\"\"\"Uma boa utilidade para zip é quando precisamos iterar duas listas ao mesm tempo\"\"\"\n",
    "for i, (a, b) in enumerate(zip(meninos, meninas)):\n",
    "    print(\"índice = {0}, menino = {1}, menina = {2}\".format(i, a, b))"
   ]
  },
  {
   "cell_type": "code",
   "execution_count": 50,
   "id": "571a48d6",
   "metadata": {},
   "outputs": [
    {
     "data": {
      "text/plain": [
       "(('roberto', 'leticia', 'thais'), ('carvalho', 'silva', 'sousa'))"
      ]
     },
     "execution_count": 50,
     "metadata": {},
     "output_type": "execute_result"
    }
   ],
   "source": [
    "\"\"\"Também podemos 'desparear' uma lista com zip\"\"\"\n",
    "lista_nome_sobrenome = [(\"roberto\", \"carvalho\"), (\"leticia\", \"silva\"), (\"thais\", \"sousa\")]\n",
    "\n",
    "nomes, sobrenomes = zip(*lista_nome_sobrenome)\n",
    "nomes, sobrenomes"
   ]
  },
  {
   "cell_type": "code",
   "execution_count": 52,
   "id": "443db3a0",
   "metadata": {},
   "outputs": [
    {
     "data": {
      "text/plain": [
       "[5, 4, 3, 2, 1]"
      ]
     },
     "execution_count": 52,
     "metadata": {},
     "output_type": "execute_result"
    }
   ],
   "source": [
    "\"\"\"reversed itera pelos elementos de uma sequência pela ordem inversa\"\"\"\n",
    "lista = [1, 2, 3, 4, 5]\n",
    "list(reversed(lista))"
   ]
  },
  {
   "cell_type": "code",
   "execution_count": 55,
   "id": "9e6721f6",
   "metadata": {},
   "outputs": [
    {
     "data": {
      "text/plain": [
       "True"
      ]
     },
     "execution_count": 55,
     "metadata": {},
     "output_type": "execute_result"
    }
   ],
   "source": [
    "#Dicionários\n",
    "idades = {\"Amanda\": 11, \"Rafael\": 22, \"Luiz\": 15, \"Maria\": 42}\n",
    "\"\"\"verificar se uma chave existe no dicionário\"\"\"\n",
    "\"Rafael\" in idades"
   ]
  },
  {
   "cell_type": "code",
   "execution_count": 56,
   "id": "e8b9c4d8",
   "metadata": {},
   "outputs": [
    {
     "data": {
      "text/plain": [
       "{'Rafael': 22, 'Luiz': 15, 'Maria': 42}"
      ]
     },
     "execution_count": 56,
     "metadata": {},
     "output_type": "execute_result"
    }
   ],
   "source": [
    "\"\"\"pop remove uma chave de um dicionário, retornando o valor referente a ela\"\"\"\n",
    "idades.pop(\"Amanda\")\n",
    "idades"
   ]
  },
  {
   "cell_type": "code",
   "execution_count": 58,
   "id": "09b0f50d",
   "metadata": {},
   "outputs": [
    {
     "data": {
      "text/plain": [
       "{'Rafael': 22, 'Luiz': 15, 'Maria': 42, 'João': 5, 'Isabel': 30}"
      ]
     },
     "execution_count": 58,
     "metadata": {},
     "output_type": "execute_result"
    }
   ],
   "source": [
    "\"\"\"update combina dicionários. ressaltando que update pode sobrepor chaves já existentes no dicionário original\"\"\"\n",
    "idades2 = {\"João\": 5, \"Isabel\": 30}\n",
    "idades.update(idades2)\n",
    "idades"
   ]
  },
  {
   "cell_type": "code",
   "execution_count": 61,
   "id": "f9396a72",
   "metadata": {},
   "outputs": [
    {
     "data": {
      "text/plain": [
       "{'Lucas': 20.42, 'Pedro': 50.53, 'Luiza': 80.87}"
      ]
     },
     "execution_count": 61,
     "metadata": {},
     "output_type": "execute_result"
    }
   ],
   "source": [
    "\"\"\"criando dicionários a partir de sequências\"\"\"\n",
    "nomes = (\"Lucas\", \"Pedro\", \"Luiza\")\n",
    "pesos = (20.42, 50.53, 80.87)\n",
    "nome_peso = dict(zip(nomes, pesos))\n",
    "nome_peso"
   ]
  },
  {
   "cell_type": "code",
   "execution_count": 68,
   "id": "b8c71178",
   "metadata": {},
   "outputs": [
    {
     "data": {
      "text/plain": [
       "defaultdict(list,\n",
       "            {'b': ['banana', 'brigadeiro'],\n",
       "             'm': ['maçã', 'morango', 'melancia'],\n",
       "             'l': ['lasanha'],\n",
       "             'p': ['pastel', 'peru']})"
      ]
     },
     "execution_count": 68,
     "metadata": {},
     "output_type": "execute_result"
    }
   ],
   "source": [
    "\"\"\"Valores default\"\"\"\n",
    "\"\"\"Criar um dicionario onde temos as comidas agrupadas pela primeira letra do seu nome\"\"\"\n",
    "comidas = [\"banana\", \"maçã\", \"brigadeiro\", \"lasanha\", \"pastel\", \"morango\", \"melancia\", \"peru\"]\n",
    "#Forma básica\n",
    "dicionario = {}\n",
    "for comida in comidas:\n",
    "    letra = comida[0]\n",
    "    if comida in dicionario:\n",
    "        dicionario[letra].append(comida)\n",
    "    else:\n",
    "        dicionario[letra] = [comida]\n",
    "#Forma melhor\n",
    "dicionario = {}\n",
    "for comida in comidas:\n",
    "    letra = comida[0]\n",
    "    dicionario.setdefault(letra, []).append(comida)\n",
    "#Forma melhor ainda\n",
    "from collections import defaultdict\n",
    "dicionario = defaultdict(list)\n",
    "for comida in comidas:\n",
    "    letra = comida[0]\n",
    "    dicionario[letra].append(comida)\n",
    "dicionario"
   ]
  },
  {
   "cell_type": "code",
   "execution_count": 74,
   "id": "cd5b3827",
   "metadata": {},
   "outputs": [
    {
     "ename": "TypeError",
     "evalue": "unhashable type: 'list'",
     "output_type": "error",
     "traceback": [
      "\u001b[0;31m---------------------------------------------------------------------------\u001b[0m",
      "\u001b[0;31mTypeError\u001b[0m                                 Traceback (most recent call last)",
      "\u001b[0;32m/tmp/ipykernel_12204/2568545639.py\u001b[0m in \u001b[0;36m<module>\u001b[0;34m\u001b[0m\n\u001b[1;32m      5\u001b[0m \u001b[0mhash\u001b[0m\u001b[0;34m(\u001b[0m\u001b[0;34m(\u001b[0m\u001b[0;36m1\u001b[0m\u001b[0;34m,\u001b[0m \u001b[0;36m2\u001b[0m\u001b[0;34m,\u001b[0m \u001b[0;36m3\u001b[0m\u001b[0;34m)\u001b[0m\u001b[0;34m)\u001b[0m\u001b[0;34m\u001b[0m\u001b[0;34m\u001b[0m\u001b[0m\n\u001b[1;32m      6\u001b[0m \u001b[0;31m#dá erro, pois lista é mutável\u001b[0m\u001b[0;34m\u001b[0m\u001b[0;34m\u001b[0m\u001b[0m\n\u001b[0;32m----> 7\u001b[0;31m \u001b[0mhash\u001b[0m\u001b[0;34m(\u001b[0m\u001b[0;34m[\u001b[0m\u001b[0;36m1\u001b[0m\u001b[0;34m,\u001b[0m \u001b[0;36m2\u001b[0m\u001b[0;34m,\u001b[0m \u001b[0;36m3\u001b[0m\u001b[0;34m]\u001b[0m\u001b[0;34m)\u001b[0m\u001b[0;34m\u001b[0m\u001b[0;34m\u001b[0m\u001b[0m\n\u001b[0m\u001b[1;32m      8\u001b[0m \u001b[0;34m\"\"\"OBS: caso use tupla como chave, seus elementos também precisam ser imutáveis\"\"\"\u001b[0m\u001b[0;34m\u001b[0m\u001b[0;34m\u001b[0m\u001b[0m\n",
      "\u001b[0;31mTypeError\u001b[0m: unhashable type: 'list'"
     ]
    }
   ],
   "source": [
    "\"verificar se um item pode ser usado como chave para um dicionário\"\n",
    "#não dá erro, pois inteiro é imutável\n",
    "hash(\"string\")\n",
    "#não dá erro, pois tupla é imutável\n",
    "hash((1, 2, 3))\n",
    "#dá erro, pois lista é mutável\n",
    "hash([1, 2, 3])\n",
    "\"\"\"OBS: caso use tupla como chave, seus elementos também precisam ser imutáveis\"\"\""
   ]
  },
  {
   "cell_type": "code",
   "execution_count": 81,
   "id": "0b6ac178",
   "metadata": {},
   "outputs": [
    {
     "data": {
      "text/plain": [
       "({1, 3, 5, 6, 8, 9}, {2, 3, 5, 7, 9, 12})"
      ]
     },
     "execution_count": 81,
     "metadata": {},
     "output_type": "execute_result"
    }
   ],
   "source": [
    "#Sets\n",
    "a = {1, 3, 5, 6, 8, 9}\n",
    "b = {2, 3, 5, 7, 9, 12}\n",
    "\"\"\"\n",
    "adiciona o elemento x ao conjunto a\n",
    "a.add(x)\n",
    "reinicia o conjunto a\n",
    "a.clear()\n",
    "remove o elemento x do conjunto a\n",
    "a.remove(x)\n",
    "remove um elemento arbritario do conjunto a\n",
    "a.pop()\n",
    "todos os elementos presentes em a ou b\n",
    "a.union(b) a | b\n",
    "define os elementos de a como todos os elementos presentes em a ou b\n",
    "a.update(b) a |= b\n",
    "todos os elementos presentes em a e b\n",
    "a.intersections(b) a & b\n",
    "define os elementos de a como todos os elementos presentes em a e b\n",
    "a.intersection_update(b) a &= b\n",
    "elementos presentes em a mas não em b\n",
    "a.difference(b) a - b\n",
    "define os elementos de a como os elementos presentes em a mas não em b\n",
    "a.difference_update(b) a -= b\n",
    "todos os elementos que estão ou em a ou em b, mas não em ambos\n",
    "a.symmetric_difference(b) a ^ b\n",
    "define todos os elementos de a como os elementos que estão ou em a ou em b, mas não em ambos\n",
    "a.symmetric_difference_update(b) a ^= b\n",
    "True se todos os elementos de a estiverem em b\n",
    "a.issubset(b)\n",
    "True se todos os elementos de b estiverem em a\n",
    "a.issuperset(b)\n",
    "True se a e b não compartilham nenhum elemento em comum\n",
    "a.isdisjoint(b)\n",
    "\"\"\"\n",
    "a, b"
   ]
  },
  {
   "cell_type": "code",
   "execution_count": 82,
   "id": "16c1ca1c",
   "metadata": {},
   "outputs": [
    {
     "data": {
      "text/plain": [
       "{1, 2, 3, 5, 6, 7, 8, 9, 12}"
      ]
     },
     "execution_count": 82,
     "metadata": {},
     "output_type": "execute_result"
    }
   ],
   "source": [
    "c = a.copy()\n",
    "c |= b\n",
    "c"
   ]
  },
  {
   "cell_type": "code",
   "execution_count": 83,
   "id": "899e2c94",
   "metadata": {},
   "outputs": [
    {
     "data": {
      "text/plain": [
       "{3, 5, 9}"
      ]
     },
     "execution_count": 83,
     "metadata": {},
     "output_type": "execute_result"
    }
   ],
   "source": [
    "d = a.copy()\n",
    "d &= b\n",
    "d"
   ]
  },
  {
   "cell_type": "code",
   "execution_count": 85,
   "id": "b72d3040",
   "metadata": {},
   "outputs": [
    {
     "data": {
      "text/plain": [
       "True"
      ]
     },
     "execution_count": 85,
     "metadata": {},
     "output_type": "execute_result"
    }
   ],
   "source": [
    "a_set = {1, 2, 3, 4, 5}\n",
    "{1, 2, 3}.issubset(a_set)"
   ]
  },
  {
   "cell_type": "code",
   "execution_count": 86,
   "id": "c1a456d5",
   "metadata": {},
   "outputs": [
    {
     "data": {
      "text/plain": [
       "True"
      ]
     },
     "execution_count": 86,
     "metadata": {},
     "output_type": "execute_result"
    }
   ],
   "source": [
    "a_set.issuperset({1, 2, 3})"
   ]
  },
  {
   "cell_type": "code",
   "execution_count": 87,
   "id": "c2a82063",
   "metadata": {},
   "outputs": [
    {
     "data": {
      "text/plain": [
       "True"
      ]
     },
     "execution_count": 87,
     "metadata": {},
     "output_type": "execute_result"
    }
   ],
   "source": [
    "{1, 2, 3} == {3, 2, 1}"
   ]
  },
  {
   "cell_type": "code",
   "execution_count": 92,
   "id": "8660a97c",
   "metadata": {},
   "outputs": [
    {
     "name": "stdout",
     "output_type": "stream",
     "text": [
      "['CAT', 'SET', 'RED', 'FOUR']\n",
      "['CAT', 'SET', 'RED', 'FOUR']\n",
      "{1, 2, 3, 4}\n",
      "{1, 2, 3, 4}\n"
     ]
    },
    {
     "data": {
      "text/plain": [
       "{'a': 0, 'cat': 1, 'be': 2, 'set': 3, 'red': 4, 'four': 5, 'do': 6, 'in': 7}"
      ]
     },
     "execution_count": 92,
     "metadata": {},
     "output_type": "execute_result"
    }
   ],
   "source": [
    "#Comprehensions\n",
    "\"\"\"\n",
    "List:\n",
    "[expr for value in collections if condition]\n",
    "Dict:\n",
    "{exp-chave: exp-valor for value in collection if condition}\n",
    "Set:\n",
    "{expr for value in collections if condition}\n",
    "\"\"\"\n",
    "#Lista - pegando as strings com tamanho maior que 2\n",
    "strings = [\"a\", \"cat\", \"be\", \"set\", \"red\", \"four\", \"do\", \"in\"]\n",
    "#modo básico\n",
    "lista = []\n",
    "for string in strings:\n",
    "    if len(string) > 2:\n",
    "        lista.append(string.upper())\n",
    "print(lista)\n",
    "#modo comprehension\n",
    "lista = [string.upper() for string in strings if len(string) > 2]\n",
    "print(lista)\n",
    "#Sets - pegando o tamanho das string\n",
    "tamanhos = {len(string) for string in strings}\n",
    "print(tamanhos)\n",
    "#ou\n",
    "tamanhos = set(map(len, strings))\n",
    "print(tamanhos)\n",
    "#Dicts - relacionar as strings com seus locais\n",
    "locais_string = {string: index for index, string in enumerate(strings)}\n",
    "locais_string"
   ]
  },
  {
   "cell_type": "code",
   "execution_count": 99,
   "id": "53658b8e",
   "metadata": {},
   "outputs": [
    {
     "name": "stdout",
     "output_type": "stream",
     "text": [
      "['Isabela', 'Caua', 'Fernanda']\n",
      "['Isabela', 'Caua', 'Fernanda']\n",
      "['Isabela', 'Caua', 'Fernanda']\n"
     ]
    }
   ],
   "source": [
    "#List Comprehension Aninhada\n",
    "listas_nomes = [[\"Kevin\", \"Isabela\", \"Caua\", \"Emilia\"],\n",
    "                [\"Leticia\", \"Matheus\", \"Fernanda\", \"Elias\"]]\n",
    "#Obter os nomes com 2 ou mais letras a's\n",
    "#modo básico\n",
    "lista_nomes_a = []\n",
    "for lista_nomes in listas_nomes:\n",
    "    for nome in lista_nomes:\n",
    "        if nome.count('a') >= 2:\n",
    "            lista_nomes_a.append(nome)\n",
    "print(lista_nomes_a)\n",
    "#modo com comprehension\n",
    "lista_nomes_a = []\n",
    "for lista_nomes in listas_nomes:\n",
    "    nomes_a = [nome for nome in lista_nomes if nome.count('a') >= 2]\n",
    "    lista_nomes_a.extend(nomes_a)\n",
    "print(lista_nomes_a)\n",
    "#modo com comprehension aninhada\n",
    "lista_nomes_a = [nome for lista_nomes in listas_nomes for nome in lista_nomes if nome.count('a') >= 2]\n",
    "print(lista_nomes_a)"
   ]
  }
 ],
 "metadata": {
  "kernelspec": {
   "display_name": "Python 3.8.10 64-bit",
   "language": "python",
   "name": "python3"
  },
  "language_info": {
   "codemirror_mode": {
    "name": "ipython",
    "version": 3
   },
   "file_extension": ".py",
   "mimetype": "text/x-python",
   "name": "python",
   "nbconvert_exporter": "python",
   "pygments_lexer": "ipython3",
   "version": "3.8.10"
  },
  "vscode": {
   "interpreter": {
    "hash": "916dbcbb3f70747c44a77c7bcd40155683ae19c65e1c03b4aa3499c5328201f1"
   }
  }
 },
 "nbformat": 4,
 "nbformat_minor": 5
}
