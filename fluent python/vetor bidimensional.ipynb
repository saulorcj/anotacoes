{
 "cells": [
  {
   "cell_type": "code",
   "execution_count": 32,
   "id": "7c4141f7",
   "metadata": {},
   "outputs": [],
   "source": [
    "class Vector:\n",
    "    def __init__(self, x=0, y=0):\n",
    "        self.x = x\n",
    "        self.y = y\n",
    "        \n",
    "    def __abs__(self):\n",
    "        return (self.x**2 + self.y**2)**(1 / 2)\n",
    "    \n",
    "    def __bool__(self):\n",
    "        return bool(self.x or self.y)\n",
    "    \n",
    "    def __add__(self, other):\n",
    "        x = self.x + other.x\n",
    "        y = self.y + other.y\n",
    "        return Vector(x, y)\n",
    "    \n",
    "    def __mul__(self, scalar):\n",
    "        x = self.x * scalar\n",
    "        y = self.y * scalar\n",
    "        return Vector(x, y)\n",
    "    \n",
    "    def __repr__(self):\n",
    "        return \"Vector({0},{1})\".format(self.x, self.y)\n",
    "    \n",
    "    def __str__(self):\n",
    "        return \"<({0},{1})>\".format(self.x, self.y)"
   ]
  },
  {
   "cell_type": "code",
   "execution_count": 33,
   "id": "d0166482",
   "metadata": {},
   "outputs": [],
   "source": [
    "vector = Vector(3, 4)"
   ]
  },
  {
   "cell_type": "code",
   "execution_count": 34,
   "id": "4ec222f0",
   "metadata": {},
   "outputs": [
    {
     "data": {
      "text/plain": [
       "5.0"
      ]
     },
     "execution_count": 34,
     "metadata": {},
     "output_type": "execute_result"
    }
   ],
   "source": [
    "abs(vector)"
   ]
  },
  {
   "cell_type": "code",
   "execution_count": 35,
   "id": "cc1e9a4e",
   "metadata": {},
   "outputs": [
    {
     "data": {
      "text/plain": [
       "True"
      ]
     },
     "execution_count": 35,
     "metadata": {},
     "output_type": "execute_result"
    }
   ],
   "source": [
    "bool(vector)"
   ]
  },
  {
   "cell_type": "code",
   "execution_count": 36,
   "id": "a81adde4",
   "metadata": {},
   "outputs": [
    {
     "data": {
      "text/plain": [
       "Vector(36,5)"
      ]
     },
     "execution_count": 36,
     "metadata": {},
     "output_type": "execute_result"
    }
   ],
   "source": [
    "vector2 = Vector(33, 1)\n",
    "vector + vector2"
   ]
  },
  {
   "cell_type": "code",
   "execution_count": 37,
   "id": "b97864d4",
   "metadata": {},
   "outputs": [
    {
     "data": {
      "text/plain": [
       "Vector(15,20)"
      ]
     },
     "execution_count": 37,
     "metadata": {},
     "output_type": "execute_result"
    }
   ],
   "source": [
    "vector * 5"
   ]
  },
  {
   "cell_type": "code",
   "execution_count": 38,
   "id": "97870afb",
   "metadata": {},
   "outputs": [
    {
     "name": "stdout",
     "output_type": "stream",
     "text": [
      "<(3,4)>\n"
     ]
    }
   ],
   "source": [
    "print(vector)"
   ]
  }
 ],
 "metadata": {
  "kernelspec": {
   "display_name": "Python 3.8.10 64-bit",
   "language": "python",
   "name": "python3"
  },
  "language_info": {
   "codemirror_mode": {
    "name": "ipython",
    "version": 3
   },
   "file_extension": ".py",
   "mimetype": "text/x-python",
   "name": "python",
   "nbconvert_exporter": "python",
   "pygments_lexer": "ipython3",
   "version": "3.8.10"
  },
  "vscode": {
   "interpreter": {
    "hash": "916dbcbb3f70747c44a77c7bcd40155683ae19c65e1c03b4aa3499c5328201f1"
   }
  }
 },
 "nbformat": 4,
 "nbformat_minor": 5
}
