{
 "cells": [
  {
   "cell_type": "code",
   "execution_count": null,
   "id": "625641af",
   "metadata": {},
   "outputs": [],
   "source": [
    "#Comprehension e Expressões Geradoras"
   ]
  },
  {
   "cell_type": "code",
   "execution_count": 1,
   "id": "54fa0ec4",
   "metadata": {},
   "outputs": [
    {
     "data": {
      "text/plain": [
       "[('Preta', 'P'),\n",
       " ('Preta', 'M'),\n",
       " ('Preta', 'G'),\n",
       " ('Branca', 'P'),\n",
       " ('Branca', 'M'),\n",
       " ('Branca', 'G')]"
      ]
     },
     "execution_count": 1,
     "metadata": {},
     "output_type": "execute_result"
    }
   ],
   "source": [
    "#Produto cartesiano de duas listas através de list comprehension aninhada\n",
    "\"\"\"Objetivo: Gerar todas as combinações possíveis de camisetadas disponíveis dada uma lista de possíveis \n",
    "tamanhos e outra de cores\n",
    "\"\"\"\n",
    "cores = [\"Preta\", \"Branca\"]\n",
    "tamanhos = [\"P\", \"M\", \"G\"]\n",
    "\n",
    "[(cor, tamanho) for cor in cores \n",
    "                for tamanho in tamanhos]"
   ]
  },
  {
   "cell_type": "code",
   "execution_count": 2,
   "id": "0149293e",
   "metadata": {},
   "outputs": [],
   "source": [
    "#Usando expressões geradoras para preencher uma tupla e um array.array\n",
    "symbols = \"#@?*\""
   ]
  },
  {
   "cell_type": "code",
   "execution_count": 3,
   "id": "d129212e",
   "metadata": {},
   "outputs": [
    {
     "data": {
      "text/plain": [
       "(35, 64, 63, 42)"
      ]
     },
     "execution_count": 3,
     "metadata": {},
     "output_type": "execute_result"
    }
   ],
   "source": [
    "tuple(ord(symbol) for symbol in symbols)"
   ]
  },
  {
   "cell_type": "code",
   "execution_count": 4,
   "id": "f23231ee",
   "metadata": {},
   "outputs": [
    {
     "data": {
      "text/plain": [
       "array('I', [35, 64, 63, 42])"
      ]
     },
     "execution_count": 4,
     "metadata": {},
     "output_type": "execute_result"
    }
   ],
   "source": [
    "import array\n",
    "array.array('I', (ord(symbol) for symbol in symbols))"
   ]
  },
  {
   "cell_type": "code",
   "execution_count": 6,
   "id": "0c4d661f",
   "metadata": {},
   "outputs": [
    {
     "name": "stdout",
     "output_type": "stream",
     "text": [
      "Preta P\n",
      "Preta M\n",
      "Preta G\n",
      "Branca P\n",
      "Branca M\n",
      "Branca G\n"
     ]
    }
   ],
   "source": [
    "#Produto cartesiano em uma expressão geradora\n",
    "\"\"\"\n",
    "Uma expressão geradora somente retorna o item, sem armazenálo na memória. \n",
    "Portanto ela pode ser usada para economizar memória, como abaixo:\n",
    "\"\"\"\n",
    "\n",
    "for camisa in ((cor, tamanho) for cor in cores for tamanho in tamanhos):\n",
    "    print(*camisa)"
   ]
  },
  {
   "cell_type": "code",
   "execution_count": 7,
   "id": "78045783",
   "metadata": {},
   "outputs": [],
   "source": [
    "#Tuplas\n",
    "\"\"\"Pelo fato das tuplas serem imutáveis e seu tamanho poder ser fixo,\n",
    "podemos dar um significado próprio para cada posição, como abaixo: \"\"\"\n",
    "lax_coordinates = (33.9425, -118.408056)\n",
    "city, year, pop, chg, area = ('Tokyo', 2003, 32_450, 0.66, 8014)\n",
    "traveler_ids = [('USA', '3114521'), ('BRA', 'CE61842'), ('ESP', 'XDA98147')]"
   ]
  },
  {
   "cell_type": "code",
   "execution_count": 8,
   "id": "75ba8814",
   "metadata": {},
   "outputs": [
    {
     "name": "stdout",
     "output_type": "stream",
     "text": [
      "USA/3114521\n",
      "BRA/CE61842\n",
      "ESP/XDA98147\n",
      "USA\n",
      "BRA\n",
      "ESP\n"
     ]
    }
   ],
   "source": [
    "for passport in traveler_ids:\n",
    "    print(\"%s/%s\" % passport)\n",
    "for country, _ in traveler_ids:\n",
    "    print(country)"
   ]
  },
  {
   "cell_type": "code",
   "execution_count": 9,
   "id": "d726b5ab",
   "metadata": {},
   "outputs": [
    {
     "data": {
      "text/plain": [
       "(0, 1, [2, 3, 4])"
      ]
     },
     "execution_count": 9,
     "metadata": {},
     "output_type": "execute_result"
    }
   ],
   "source": [
    "#Utilidades de '*'\n",
    "a, b, *rest = range(5)\n",
    "a, b, rest"
   ]
  },
  {
   "cell_type": "code",
   "execution_count": 10,
   "id": "62ee66fd",
   "metadata": {},
   "outputs": [
    {
     "data": {
      "text/plain": [
       "(0, 1, [2])"
      ]
     },
     "execution_count": 10,
     "metadata": {},
     "output_type": "execute_result"
    }
   ],
   "source": [
    "a, b, *rest = range(3)\n",
    "a, b, rest"
   ]
  },
  {
   "cell_type": "code",
   "execution_count": 11,
   "id": "5d4933c9",
   "metadata": {},
   "outputs": [
    {
     "data": {
      "text/plain": [
       "(0, 1, [])"
      ]
     },
     "execution_count": 11,
     "metadata": {},
     "output_type": "execute_result"
    }
   ],
   "source": [
    "a, b, *rest = range(2)\n",
    "a, b, rest"
   ]
  },
  {
   "cell_type": "code",
   "execution_count": 12,
   "id": "9e2679f4",
   "metadata": {},
   "outputs": [
    {
     "data": {
      "text/plain": [
       "(0, [1, 2], 3, 4)"
      ]
     },
     "execution_count": 12,
     "metadata": {},
     "output_type": "execute_result"
    }
   ],
   "source": [
    "a, *body, b, c = range(5)\n",
    "a, body, b, c"
   ]
  },
  {
   "cell_type": "code",
   "execution_count": 13,
   "id": "37b2c7aa",
   "metadata": {},
   "outputs": [
    {
     "data": {
      "text/plain": [
       "([0, 1, 2], 3, 4)"
      ]
     },
     "execution_count": 13,
     "metadata": {},
     "output_type": "execute_result"
    }
   ],
   "source": [
    "*head, a, b = range(5)\n",
    "head, a, b"
   ]
  },
  {
   "cell_type": "code",
   "execution_count": 14,
   "id": "d97ec5c1",
   "metadata": {},
   "outputs": [],
   "source": [
    "metro_areas = [\n",
    "    ('Tokyo', 'JP', 36.933, (35.689722, 139.691667)),\n",
    "    ('Delhi NCR', 'IN', 21.935, (28.613889, 77.208889)),\n",
    "    ('Mexico City', 'MX', 20.104, (40.808611, -74.020386)),\n",
    "    ('Sao Paulo', 'BR', 19.649, (-23.547778, -46.635833))\n",
    "]"
   ]
  },
  {
   "cell_type": "code",
   "execution_count": 15,
   "id": "4a811b06",
   "metadata": {},
   "outputs": [
    {
     "name": "stdout",
     "output_type": "stream",
     "text": [
      "                |   lat.    |   long.  \n"
     ]
    }
   ],
   "source": [
    "print('{:15} | {:^9} | {:^9}'.format('', 'lat.', 'long.'))\n",
    "fmt = '{:15} | {:9.4f} | {:9.4f}'"
   ]
  },
  {
   "cell_type": "code",
   "execution_count": 16,
   "id": "21597941",
   "metadata": {},
   "outputs": [
    {
     "name": "stdout",
     "output_type": "stream",
     "text": [
      "Mexico City     |   40.8086 |  -74.0204\n",
      "Sao Paulo       |  -23.5478 |  -46.6358\n"
     ]
    }
   ],
   "source": [
    "for name, cc, pop, (latitude, longitude) in metro_areas:\n",
    "    if longitude <= 0:\n",
    "        print(fmt.format(name, latitude, longitude))"
   ]
  },
  {
   "cell_type": "code",
   "execution_count": 17,
   "id": "96c8361e",
   "metadata": {},
   "outputs": [
    {
     "data": {
      "text/plain": [
       "City(name='Tokyo', country='JP', population=36.933, coordinates=(35.689722, 139.691677))"
      ]
     },
     "execution_count": 17,
     "metadata": {},
     "output_type": "execute_result"
    }
   ],
   "source": [
    "#Tuplas Nomeadas\n",
    "from collections import namedtuple\n",
    "\n",
    "City = namedtuple('City', 'name country population coordinates')\n",
    "tokyo = City('Tokyo', 'JP', 36.933, (35.689722, 139.691677))\n",
    "tokyo"
   ]
  },
  {
   "cell_type": "code",
   "execution_count": 18,
   "id": "681686a9",
   "metadata": {},
   "outputs": [
    {
     "data": {
      "text/plain": [
       "36.933"
      ]
     },
     "execution_count": 18,
     "metadata": {},
     "output_type": "execute_result"
    }
   ],
   "source": [
    "tokyo.population"
   ]
  },
  {
   "cell_type": "code",
   "execution_count": 19,
   "id": "9ea9c03d",
   "metadata": {},
   "outputs": [
    {
     "data": {
      "text/plain": [
       "(35.689722, 139.691677)"
      ]
     },
     "execution_count": 19,
     "metadata": {},
     "output_type": "execute_result"
    }
   ],
   "source": [
    "tokyo.coordinates"
   ]
  },
  {
   "cell_type": "code",
   "execution_count": 20,
   "id": "b13496ae",
   "metadata": {},
   "outputs": [
    {
     "data": {
      "text/plain": [
       "'JP'"
      ]
     },
     "execution_count": 20,
     "metadata": {},
     "output_type": "execute_result"
    }
   ],
   "source": [
    "tokyo[1]"
   ]
  },
  {
   "cell_type": "code",
   "execution_count": 21,
   "id": "6c3c2ac1",
   "metadata": {},
   "outputs": [
    {
     "data": {
      "text/plain": [
       "('name', 'country', 'population', 'coordinates')"
      ]
     },
     "execution_count": 21,
     "metadata": {},
     "output_type": "execute_result"
    }
   ],
   "source": [
    "#Atributos importantes\n",
    "City._fields"
   ]
  },
  {
   "cell_type": "code",
   "execution_count": 22,
   "id": "cbfd1069",
   "metadata": {},
   "outputs": [
    {
     "data": {
      "text/plain": [
       "{'name': 'Delhi NCR',\n",
       " 'country': 'IN',\n",
       " 'population': 21.935,\n",
       " 'coordinates': LatLong(lat=28.8124, long=32.798182)}"
      ]
     },
     "execution_count": 22,
     "metadata": {},
     "output_type": "execute_result"
    }
   ],
   "source": [
    "Latlong = namedtuple('LatLong', 'lat long')\n",
    "delhi_data = ('Delhi NCR', 'IN', 21.935, Latlong(28.8124, 32.798182))\n",
    "#permite instanciar uma tupla nomeada através de um iterável\n",
    "delhi = City._make(delhi_data)\n",
    "#retorna collections.OrderedDict, usado para melhorar a legibilidade do objeto\n",
    "delhi._asdict()"
   ]
  },
  {
   "cell_type": "code",
   "execution_count": 23,
   "id": "e44147bb",
   "metadata": {},
   "outputs": [
    {
     "name": "stdout",
     "output_type": "stream",
     "text": [
      "name: Delhi NCR\n",
      "country: IN\n",
      "population: 21.935\n",
      "coordinates: LatLong(lat=28.8124, long=32.798182)\n"
     ]
    }
   ],
   "source": [
    "for key, value in delhi._asdict().items():\n",
    "    print('{0}: {1}'.format(key, value))"
   ]
  },
  {
   "cell_type": "code",
   "execution_count": 24,
   "id": "1733a20d",
   "metadata": {},
   "outputs": [
    {
     "name": "stdout",
     "output_type": "stream",
     "text": [
      "1111  Saulo               Brasil        \n",
      "2222  Roberto             Holanda       \n",
      "3333  Carolina            Egito         \n"
     ]
    }
   ],
   "source": [
    "#Fatiamento\n",
    "cod = slice(0,5)\n",
    "nome = slice(5,24)\n",
    "pais = slice(24,None)\n",
    "\n",
    "items = \"\"\"\n",
    "1111 Saulo              Brasil        \n",
    "2222 Roberto            Holanda       \n",
    "3333 Carolina           Egito         \n",
    "\"\"\"\n",
    "for item in items.split('\\n')[1:-1]:\n",
    "    print(item[cod], item[nome], item[pais])"
   ]
  },
  {
   "cell_type": "code",
   "execution_count": 25,
   "id": "34d52e7c",
   "metadata": {},
   "outputs": [
    {
     "data": {
      "text/plain": [
       "array([[5, 6],\n",
       "       [8, 9]])"
      ]
     },
     "execution_count": 25,
     "metadata": {},
     "output_type": "execute_result"
    }
   ],
   "source": [
    "#Fatiamento Multidimensional\n",
    "import numpy as np\n",
    "\n",
    "arr =np.array([[1, 2, 3],\n",
    "               [4, 5, 6],\n",
    "               [7, 8, 9]])\n",
    "arr[1:, 1:]"
   ]
  },
  {
   "cell_type": "code",
   "execution_count": 26,
   "id": "aef84587",
   "metadata": {},
   "outputs": [
    {
     "data": {
      "text/plain": [
       "array([[2, 3],\n",
       "       [5, 6],\n",
       "       [8, 9]])"
      ]
     },
     "execution_count": 26,
     "metadata": {},
     "output_type": "execute_result"
    }
   ],
   "source": [
    "arr[..., 1:]"
   ]
  },
  {
   "cell_type": "code",
   "execution_count": 27,
   "id": "47149af1",
   "metadata": {},
   "outputs": [
    {
     "data": {
      "text/plain": [
       "[0, 1, 2, 3, 4, 5, 6, 7, 8, 9]"
      ]
     },
     "execution_count": 27,
     "metadata": {},
     "output_type": "execute_result"
    }
   ],
   "source": [
    "#Atribuição de Valores a Fatias\n",
    "l = list(range(10))\n",
    "l"
   ]
  },
  {
   "cell_type": "code",
   "execution_count": 28,
   "id": "22d09e75",
   "metadata": {},
   "outputs": [
    {
     "data": {
      "text/plain": [
       "[0, 1, 20, 30, 5, 6, 7, 8, 9]"
      ]
     },
     "execution_count": 28,
     "metadata": {},
     "output_type": "execute_result"
    }
   ],
   "source": [
    "l[2:5] = [20,30]\n",
    "l"
   ]
  },
  {
   "cell_type": "code",
   "execution_count": 29,
   "id": "af36bbcd",
   "metadata": {},
   "outputs": [
    {
     "data": {
      "text/plain": [
       "[0, 1, 20, 30, 5, 8, 9]"
      ]
     },
     "execution_count": 29,
     "metadata": {},
     "output_type": "execute_result"
    }
   ],
   "source": [
    "del(l[5:7])\n",
    "l"
   ]
  },
  {
   "cell_type": "code",
   "execution_count": 30,
   "id": "54954535",
   "metadata": {},
   "outputs": [
    {
     "data": {
      "text/plain": [
       "[0, 1, 20, 11, 5, 22, 9]"
      ]
     },
     "execution_count": 30,
     "metadata": {},
     "output_type": "execute_result"
    }
   ],
   "source": [
    "l[3::2] = [11, 22]\n",
    "l"
   ]
  },
  {
   "cell_type": "code",
   "execution_count": 31,
   "id": "9d7ca07c",
   "metadata": {},
   "outputs": [
    {
     "ename": "TypeError",
     "evalue": "can only assign an iterable",
     "output_type": "error",
     "traceback": [
      "\u001b[0;31m---------------------------------------------------------------------------\u001b[0m",
      "\u001b[0;31mTypeError\u001b[0m                                 Traceback (most recent call last)",
      "\u001b[0;32m/tmp/ipykernel_19713/532460476.py\u001b[0m in \u001b[0;36m<module>\u001b[0;34m\u001b[0m\n\u001b[1;32m      1\u001b[0m \u001b[0;31m#o valor de atribuição precisa ser um iterável\u001b[0m\u001b[0;34m\u001b[0m\u001b[0;34m\u001b[0m\u001b[0m\n\u001b[0;32m----> 2\u001b[0;31m \u001b[0ml\u001b[0m\u001b[0;34m[\u001b[0m\u001b[0;36m2\u001b[0m\u001b[0;34m:\u001b[0m\u001b[0;36m5\u001b[0m\u001b[0;34m]\u001b[0m \u001b[0;34m=\u001b[0m \u001b[0;36m100\u001b[0m\u001b[0;34m\u001b[0m\u001b[0;34m\u001b[0m\u001b[0m\n\u001b[0m",
      "\u001b[0;31mTypeError\u001b[0m: can only assign an iterable"
     ]
    }
   ],
   "source": [
    "#o valor de atribuição precisa ser um iterável\n",
    "l[2:5] = 100"
   ]
  },
  {
   "cell_type": "code",
   "execution_count": 32,
   "id": "11e224b3",
   "metadata": {},
   "outputs": [
    {
     "data": {
      "text/plain": [
       "[0, 1, 100, 22, 9]"
      ]
     },
     "execution_count": 32,
     "metadata": {},
     "output_type": "execute_result"
    }
   ],
   "source": [
    "l[2:5] = [100]\n",
    "l"
   ]
  },
  {
   "cell_type": "code",
   "execution_count": 33,
   "id": "29564d2e",
   "metadata": {},
   "outputs": [
    {
     "data": {
      "text/plain": [
       "[['_', '_', '_'], ['_', '_', '_'], ['_', '_', '_']]"
      ]
     },
     "execution_count": 33,
     "metadata": {},
     "output_type": "execute_result"
    }
   ],
   "source": [
    "#Criando listas de listas\n",
    "sala = [['_'] * 3 for _ in range(3)]\n",
    "sala"
   ]
  },
  {
   "cell_type": "code",
   "execution_count": 34,
   "id": "d0c06ef1",
   "metadata": {},
   "outputs": [
    {
     "data": {
      "text/plain": [
       "[['_', '_', '_'], ['_', 'X', '_'], ['_', '_', '_']]"
      ]
     },
     "execution_count": 34,
     "metadata": {},
     "output_type": "execute_result"
    }
   ],
   "source": [
    "sala[1][1] = 'X'\n",
    "sala"
   ]
  },
  {
   "cell_type": "code",
   "execution_count": 35,
   "id": "f7613390",
   "metadata": {},
   "outputs": [
    {
     "data": {
      "text/plain": [
       "[['_', '_', '_'], ['_', '_', '_'], ['_', '_', '_']]"
      ]
     },
     "execution_count": 35,
     "metadata": {},
     "output_type": "execute_result"
    }
   ],
   "source": [
    "#Modo errado\n",
    "sala_errado = [['_'] * 3] * 3\n",
    "sala_errado"
   ]
  },
  {
   "cell_type": "code",
   "execution_count": 36,
   "id": "2b2c873e",
   "metadata": {},
   "outputs": [
    {
     "data": {
      "text/plain": [
       "[['_', '_', 'X'], ['_', '_', 'X'], ['_', '_', 'X']]"
      ]
     },
     "execution_count": 36,
     "metadata": {},
     "output_type": "execute_result"
    }
   ],
   "source": [
    "sala_errado[1][2] = 'X'\n",
    "sala_errado"
   ]
  },
  {
   "cell_type": "code",
   "execution_count": 37,
   "id": "e9b28102",
   "metadata": {},
   "outputs": [],
   "source": [
    "#Ordenação"
   ]
  },
  {
   "cell_type": "code",
   "execution_count": 38,
   "id": "7a334897",
   "metadata": {},
   "outputs": [
    {
     "data": {
      "text/plain": [
       "['banana', 'framboesa', 'maçã', 'melância', 'uva']"
      ]
     },
     "execution_count": 38,
     "metadata": {},
     "output_type": "execute_result"
    }
   ],
   "source": [
    "frutas = ['banana', 'maçã', 'uva', 'melância', 'framboesa']\n",
    "sorted(frutas)"
   ]
  },
  {
   "cell_type": "code",
   "execution_count": 39,
   "id": "f45a9f2b",
   "metadata": {},
   "outputs": [
    {
     "data": {
      "text/plain": [
       "['uva', 'melância', 'maçã', 'framboesa', 'banana']"
      ]
     },
     "execution_count": 39,
     "metadata": {},
     "output_type": "execute_result"
    }
   ],
   "source": [
    "sorted(frutas, reverse=True)"
   ]
  },
  {
   "cell_type": "code",
   "execution_count": 40,
   "id": "3b492045",
   "metadata": {},
   "outputs": [
    {
     "data": {
      "text/plain": [
       "['uva', 'maçã', 'banana', 'melância', 'framboesa']"
      ]
     },
     "execution_count": 40,
     "metadata": {},
     "output_type": "execute_result"
    }
   ],
   "source": [
    "sorted(frutas, key=len)"
   ]
  },
  {
   "cell_type": "code",
   "execution_count": 41,
   "id": "73c48f33",
   "metadata": {},
   "outputs": [
    {
     "data": {
      "text/plain": [
       "['framboesa', 'melância', 'banana', 'maçã', 'uva']"
      ]
     },
     "execution_count": 41,
     "metadata": {},
     "output_type": "execute_result"
    }
   ],
   "source": [
    "sorted(frutas, key=len, reverse=True)"
   ]
  },
  {
   "cell_type": "code",
   "execution_count": 42,
   "id": "3febc8b4",
   "metadata": {},
   "outputs": [
    {
     "data": {
      "text/plain": [
       "['banana', 'maçã', 'uva', 'melância', 'framboesa']"
      ]
     },
     "execution_count": 42,
     "metadata": {},
     "output_type": "execute_result"
    }
   ],
   "source": [
    "frutas"
   ]
  },
  {
   "cell_type": "code",
   "execution_count": 43,
   "id": "0e79f4d5",
   "metadata": {},
   "outputs": [],
   "source": [
    "frutas.sort()"
   ]
  },
  {
   "cell_type": "code",
   "execution_count": 44,
   "id": "db3884d9",
   "metadata": {},
   "outputs": [
    {
     "data": {
      "text/plain": [
       "['banana', 'framboesa', 'maçã', 'melância', 'uva']"
      ]
     },
     "execution_count": 44,
     "metadata": {},
     "output_type": "execute_result"
    }
   ],
   "source": [
    "frutas"
   ]
  },
  {
   "cell_type": "code",
   "execution_count": 45,
   "id": "90e2412b",
   "metadata": {},
   "outputs": [],
   "source": [
    "#bisect\n",
    "import bisect\n",
    "import sys"
   ]
  },
  {
   "cell_type": "code",
   "execution_count": 46,
   "id": "0f0aeffa",
   "metadata": {},
   "outputs": [
    {
     "name": "stdout",
     "output_type": "stream",
     "text": [
      "3 4 6 1 2 5\n",
      "DEMO:  bisect_right\n",
      "haystack ->  1  4  5  6  8 12 15 20 21 23 26 29 30\n",
      "31 @ 13  | | | | | | | | | | | | |31\n",
      "30 @ 13  | | | | | | | | | | | | |30\n",
      "29 @ 12  | | | | | | | | | | | |29\n",
      "23 @ 10  | | | | | | | | | |23\n",
      "22 @  9  | | | | | | | | |22\n",
      "10 @  5  | | | | |10\n",
      " 8 @  5  | | | | |8 \n",
      " 5 @  3  | | |5 \n",
      " 2 @  1  |2 \n",
      " 1 @  1  |1 \n",
      " 8 @  5  | | | | |8 \n"
     ]
    }
   ],
   "source": [
    "entrada = input()\n",
    "\n",
    "HAYSTACK = [1, 4, 5, 6, 8, 12, 15, 20, 21, 23, 26, 29, 30]\n",
    "NEEDLES = [8, 1, 2, 5, 8, 10, 22, 23, 29, 30, 31]\n",
    "\n",
    "ROW_FMT = '{0:2d} @ {1:2d} {2}{0:<2d}'\n",
    "\n",
    "def demo(bisect_fn):\n",
    "    for needle in reversed(NEEDLES):\n",
    "        position = bisect_fn(HAYSTACK, needle)\n",
    "        offset = position * ' |'\n",
    "        print(ROW_FMT.format(needle, position, offset))\n",
    "\n",
    "if entrada == 'left':\n",
    "    bisect_fn = bisect.bisect_left\n",
    "else:\n",
    "    bisect_fn = bisect.bisect\n",
    "\n",
    "print('DEMO: ', bisect_fn.__name__)\n",
    "print('haystack ->', ' '.join('%2d' % n for n in HAYSTACK))\n",
    "demo(bisect_fn)"
   ]
  },
  {
   "cell_type": "code",
   "execution_count": 47,
   "id": "a1034bf3",
   "metadata": {},
   "outputs": [
    {
     "data": {
      "text/plain": [
       "['F', 'A', 'C', 'B', 'A', 'A']"
      ]
     },
     "execution_count": 47,
     "metadata": {},
     "output_type": "execute_result"
    }
   ],
   "source": [
    "#Usando bisect de outra maneira\n",
    "\n",
    "def grade(score, breakpoints=(60,70,80,90), grades='FDCBA'):\n",
    "    i = bisect.bisect(breakpoints, score)\n",
    "    return grades[i]\n",
    "\n",
    "[grade(score) for score in [33,99,77,89,90,100]]"
   ]
  },
  {
   "cell_type": "code",
   "execution_count": 48,
   "id": "f5dae015",
   "metadata": {},
   "outputs": [
    {
     "name": "stdout",
     "output_type": "stream",
     "text": [
      "10 -> [10]\n",
      " 0 -> [0, 10]\n",
      " 6 -> [0, 6, 10]\n",
      " 8 -> [0, 6, 8, 10]\n",
      " 7 -> [0, 6, 7, 8, 10]\n",
      " 2 -> [0, 2, 6, 7, 8, 10]\n",
      "10 -> [0, 2, 6, 7, 8, 10, 10]\n"
     ]
    }
   ],
   "source": [
    "import random\n",
    "\n",
    "SIZE = 7\n",
    "\n",
    "random.seed(1729)\n",
    "\n",
    "my_list = []\n",
    "for i in range(SIZE):\n",
    "    new_item = random.randrange(SIZE * 2)\n",
    "    bisect.insort(my_list, new_item)\n",
    "    print('%2d ->' % new_item, my_list)"
   ]
  },
  {
   "cell_type": "code",
   "execution_count": 49,
   "id": "7e13db95",
   "metadata": {},
   "outputs": [
    {
     "data": {
      "text/plain": [
       "0.5963321947530882"
      ]
     },
     "execution_count": 49,
     "metadata": {},
     "output_type": "execute_result"
    }
   ],
   "source": [
    "#Array\n",
    "from array import array\n",
    "from random import random\n",
    "floats = array('d', (random() for i in range(10**7)))\n",
    "floats[-1]"
   ]
  },
  {
   "cell_type": "code",
   "execution_count": 50,
   "id": "f9e882be",
   "metadata": {},
   "outputs": [
    {
     "data": {
      "text/plain": [
       "0.5963321947530882"
      ]
     },
     "execution_count": 50,
     "metadata": {},
     "output_type": "execute_result"
    }
   ],
   "source": [
    "fp = open('floats.bin', 'wb')\n",
    "floats.tofile(fp)\n",
    "fp.close()\n",
    "floats2 = array('d')\n",
    "fp = open('floats.bin', 'rb')\n",
    "floats2.fromfile(fp, 10**7)\n",
    "fp.close()\n",
    "floats2[-1]"
   ]
  },
  {
   "cell_type": "code",
   "execution_count": 51,
   "id": "883babae",
   "metadata": {},
   "outputs": [
    {
     "data": {
      "text/plain": [
       "True"
      ]
     },
     "execution_count": 51,
     "metadata": {},
     "output_type": "execute_result"
    }
   ],
   "source": [
    "floats2 == floats"
   ]
  },
  {
   "cell_type": "code",
   "execution_count": 52,
   "id": "006ea472",
   "metadata": {},
   "outputs": [
    {
     "data": {
      "text/plain": [
       "'Arrays possuem quase todos os métodos e operações \\nde uma list convencional, vá à página 78 de Fluent \\nPython para vê-las ou busque na internet.'"
      ]
     },
     "execution_count": 52,
     "metadata": {},
     "output_type": "execute_result"
    }
   ],
   "source": [
    "\"\"\"Arrays possuem quase todos os métodos e operações \n",
    "de uma list convencional, vá à página 78 de Fluent \n",
    "Python para vê-las ou busque na internet.\"\"\""
   ]
  },
  {
   "cell_type": "code",
   "execution_count": 1,
   "id": "4de4e6ed",
   "metadata": {},
   "outputs": [
    {
     "data": {
      "text/plain": [
       "array([ 0,  1,  2,  3,  4,  5,  6,  7,  8,  9, 10, 11])"
      ]
     },
     "execution_count": 1,
     "metadata": {},
     "output_type": "execute_result"
    }
   ],
   "source": [
    "#Numpy e Scipy\n",
    "import numpy as np\n",
    "a = np.arange(12)\n",
    "a"
   ]
  },
  {
   "cell_type": "code",
   "execution_count": 2,
   "id": "8d261751",
   "metadata": {},
   "outputs": [
    {
     "data": {
      "text/plain": [
       "numpy.ndarray"
      ]
     },
     "execution_count": 2,
     "metadata": {},
     "output_type": "execute_result"
    }
   ],
   "source": [
    "type(a)"
   ]
  },
  {
   "cell_type": "code",
   "execution_count": 4,
   "id": "24883731",
   "metadata": {},
   "outputs": [
    {
     "data": {
      "text/plain": [
       "(12,)"
      ]
     },
     "execution_count": 4,
     "metadata": {},
     "output_type": "execute_result"
    }
   ],
   "source": [
    "a.shape"
   ]
  },
  {
   "cell_type": "code",
   "execution_count": 6,
   "id": "bdc41e83",
   "metadata": {},
   "outputs": [
    {
     "data": {
      "text/plain": [
       "array([[ 0,  1,  2,  3],\n",
       "       [ 4,  5,  6,  7],\n",
       "       [ 8,  9, 10, 11]])"
      ]
     },
     "execution_count": 6,
     "metadata": {},
     "output_type": "execute_result"
    }
   ],
   "source": [
    "a.shape = 3,4\n",
    "a"
   ]
  },
  {
   "cell_type": "code",
   "execution_count": 7,
   "id": "e6abcba1",
   "metadata": {},
   "outputs": [
    {
     "data": {
      "text/plain": [
       "array([ 8,  9, 10, 11])"
      ]
     },
     "execution_count": 7,
     "metadata": {},
     "output_type": "execute_result"
    }
   ],
   "source": [
    "a[2]"
   ]
  },
  {
   "cell_type": "code",
   "execution_count": 8,
   "id": "97a004fc",
   "metadata": {},
   "outputs": [
    {
     "data": {
      "text/plain": [
       "9"
      ]
     },
     "execution_count": 8,
     "metadata": {},
     "output_type": "execute_result"
    }
   ],
   "source": [
    "a[2, 1]"
   ]
  },
  {
   "cell_type": "code",
   "execution_count": 9,
   "id": "863e9dfc",
   "metadata": {},
   "outputs": [
    {
     "data": {
      "text/plain": [
       "array([1, 5, 9])"
      ]
     },
     "execution_count": 9,
     "metadata": {},
     "output_type": "execute_result"
    }
   ],
   "source": [
    "a[:, 1]"
   ]
  },
  {
   "cell_type": "code",
   "execution_count": 10,
   "id": "1745aea7",
   "metadata": {},
   "outputs": [
    {
     "data": {
      "text/plain": [
       "array([[ 0,  4,  8],\n",
       "       [ 1,  5,  9],\n",
       "       [ 2,  6, 10],\n",
       "       [ 3,  7, 11]])"
      ]
     },
     "execution_count": 10,
     "metadata": {},
     "output_type": "execute_result"
    }
   ],
   "source": [
    "a.T"
   ]
  },
  {
   "cell_type": "code",
   "execution_count": 58,
   "id": "5d685edc",
   "metadata": {},
   "outputs": [
    {
     "data": {
      "text/plain": [
       "array([97581.398591, 57586.213547, 79467.745898])"
      ]
     },
     "execution_count": 58,
     "metadata": {},
     "output_type": "execute_result"
    }
   ],
   "source": [
    "floats = np.loadtxt('files/floats-10M-lines.txt')\n",
    "floats[-3:]"
   ]
  },
  {
   "cell_type": "code",
   "execution_count": 59,
   "id": "244b302b",
   "metadata": {},
   "outputs": [
    {
     "data": {
      "text/plain": [
       "array([48790.6992955, 28793.1067735, 39733.872949 ])"
      ]
     },
     "execution_count": 59,
     "metadata": {},
     "output_type": "execute_result"
    }
   ],
   "source": [
    "floats *= .5\n",
    "floats[-3:]"
   ]
  },
  {
   "cell_type": "code",
   "execution_count": 60,
   "id": "48c71973",
   "metadata": {},
   "outputs": [
    {
     "data": {
      "text/plain": [
       "0.0004258879998815246"
      ]
     },
     "execution_count": 60,
     "metadata": {},
     "output_type": "execute_result"
    }
   ],
   "source": [
    "from time import perf_counter as pc\n",
    "t0 = pc(); floats /= 3; pc() - t0"
   ]
  },
  {
   "cell_type": "code",
   "execution_count": 62,
   "id": "9d2e557c",
   "metadata": {},
   "outputs": [
    {
     "data": {
      "text/plain": [
       "memmap([97581.398591, 57586.213547, 79467.745898])"
      ]
     },
     "execution_count": 62,
     "metadata": {},
     "output_type": "execute_result"
    }
   ],
   "source": [
    "np.save('floats-10M', floats)\n",
    "floats2 = np.load('floats-10M.npy', 'r+')\n",
    "floats2 *= 6\n",
    "floats2[-3:]"
   ]
  },
  {
   "cell_type": "code",
   "execution_count": 75,
   "id": "032cc9d7",
   "metadata": {},
   "outputs": [
    {
     "data": {
      "text/plain": [
       "deque([0, 1, 2, 3, 4, 5, 6, 7, 8, 9])"
      ]
     },
     "execution_count": 75,
     "metadata": {},
     "output_type": "execute_result"
    }
   ],
   "source": [
    "#Deques\n",
    "from collections import deque\n",
    "dq = deque(range(10), maxlen=10)\n",
    "dq"
   ]
  },
  {
   "cell_type": "code",
   "execution_count": 76,
   "id": "88480c4b",
   "metadata": {},
   "outputs": [
    {
     "data": {
      "text/plain": [
       "deque([7, 8, 9, 0, 1, 2, 3, 4, 5, 6])"
      ]
     },
     "execution_count": 76,
     "metadata": {},
     "output_type": "execute_result"
    }
   ],
   "source": [
    "dq.rotate(3)\n",
    "dq"
   ]
  },
  {
   "cell_type": "code",
   "execution_count": 77,
   "id": "de00b861",
   "metadata": {},
   "outputs": [
    {
     "data": {
      "text/plain": [
       "deque([1, 2, 3, 4, 5, 6, 7, 8, 9, 0])"
      ]
     },
     "execution_count": 77,
     "metadata": {},
     "output_type": "execute_result"
    }
   ],
   "source": [
    "dq.rotate(-4)\n",
    "dq"
   ]
  },
  {
   "cell_type": "code",
   "execution_count": 78,
   "id": "9a699e75",
   "metadata": {},
   "outputs": [
    {
     "data": {
      "text/plain": [
       "deque([-1, 1, 2, 3, 4, 5, 6, 7, 8, 9])"
      ]
     },
     "execution_count": 78,
     "metadata": {},
     "output_type": "execute_result"
    }
   ],
   "source": [
    "dq.appendleft(-1)\n",
    "dq"
   ]
  },
  {
   "cell_type": "code",
   "execution_count": 79,
   "id": "30ba9a86",
   "metadata": {},
   "outputs": [
    {
     "data": {
      "text/plain": [
       "deque([3, 4, 5, 6, 7, 8, 9, 11, 22, 33])"
      ]
     },
     "execution_count": 79,
     "metadata": {},
     "output_type": "execute_result"
    }
   ],
   "source": [
    "dq.extend([11, 22, 33])\n",
    "dq"
   ]
  },
  {
   "cell_type": "code",
   "execution_count": 80,
   "id": "e6a1a527",
   "metadata": {},
   "outputs": [
    {
     "data": {
      "text/plain": [
       "deque([40, 30, 20, 10, 3, 4, 5, 6, 7, 8])"
      ]
     },
     "execution_count": 80,
     "metadata": {},
     "output_type": "execute_result"
    }
   ],
   "source": [
    "dq.extendleft([10, 20, 30, 40])\n",
    "dq"
   ]
  },
  {
   "cell_type": "code",
   "execution_count": 81,
   "id": "421d6e35",
   "metadata": {},
   "outputs": [
    {
     "data": {
      "text/plain": [
       "'Para saber mais sobre deque acesse a web ou página 85 de Fluente Python'"
      ]
     },
     "execution_count": 81,
     "metadata": {},
     "output_type": "execute_result"
    }
   ],
   "source": [
    "\"\"\"Para saber mais sobre deque acesse a web ou página 85 de Fluente Python\n",
    "Outras classes para se ver: \n",
    "Queue: Queue, LifoQueue, PriorityQueue\n",
    "Multiprocessing\n",
    "Asyncio\n",
    "Heapq\"\"\""
   ]
  }
 ],
 "metadata": {
  "kernelspec": {
   "display_name": "Python 3 (ipykernel)",
   "language": "python",
   "name": "python3"
  },
  "language_info": {
   "codemirror_mode": {
    "name": "ipython",
    "version": 3
   },
   "file_extension": ".py",
   "mimetype": "text/x-python",
   "name": "python",
   "nbconvert_exporter": "python",
   "pygments_lexer": "ipython3",
   "version": "3.9.7"
  }
 },
 "nbformat": 4,
 "nbformat_minor": 5
}
